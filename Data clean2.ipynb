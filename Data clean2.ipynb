{
 "cells": [
  {
   "cell_type": "markdown",
   "id": "413ad826",
   "metadata": {},
   "source": [
    "### The dataset shall be cleaned through following process\n",
    "1. Checking number of columns\n",
    "2. checking missing values\n",
    "3. checking duplicate values\n",
    "4. checking for outliers"
   ]
  },
  {
   "cell_type": "code",
   "execution_count": 1,
   "id": "51ad102a",
   "metadata": {},
   "outputs": [],
   "source": [
    "# Importing necessary libraries\n",
    "import pandas as pd\n",
    "import seaborn as sns"
   ]
  },
  {
   "cell_type": "code",
   "execution_count": 19,
   "id": "c4bf05da",
   "metadata": {},
   "outputs": [],
   "source": [
    "# Read the file\n",
    "\n",
    "df = pd.read_csv(\"states.csv\")"
   ]
  },
  {
   "cell_type": "code",
   "execution_count": 6,
   "id": "dc83e42f",
   "metadata": {},
   "outputs": [],
   "source": [
    "import os"
   ]
  },
  {
   "cell_type": "code",
   "execution_count": 20,
   "id": "a176efe3",
   "metadata": {},
   "outputs": [
    {
     "data": {
      "text/html": [
       "<div>\n",
       "<style scoped>\n",
       "    .dataframe tbody tr th:only-of-type {\n",
       "        vertical-align: middle;\n",
       "    }\n",
       "\n",
       "    .dataframe tbody tr th {\n",
       "        vertical-align: top;\n",
       "    }\n",
       "\n",
       "    .dataframe thead th {\n",
       "        text-align: right;\n",
       "    }\n",
       "</style>\n",
       "<table border=\"1\" class=\"dataframe\">\n",
       "  <thead>\n",
       "    <tr style=\"text-align: right;\">\n",
       "      <th></th>\n",
       "      <th>State</th>\n",
       "      <th>Uninsured Rate (2010)</th>\n",
       "      <th>Uninsured Rate (2015)</th>\n",
       "      <th>Uninsured Rate Change (2010-2015)</th>\n",
       "      <th>Health Insurance Coverage Change (2010-2015)</th>\n",
       "      <th>Employer Health Insurance Coverage (2015)</th>\n",
       "      <th>Marketplace Health Insurance Coverage (2016)</th>\n",
       "      <th>Marketplace Tax Credits (2016)</th>\n",
       "      <th>Average Monthly Tax Credit (2016)</th>\n",
       "      <th>State Medicaid Expansion (2016)</th>\n",
       "      <th>Medicaid Enrollment (2013)</th>\n",
       "      <th>Medicaid Enrollment (2016)</th>\n",
       "      <th>Medicaid Enrollment Change (2013-2016)</th>\n",
       "      <th>Medicare Enrollment (2016)</th>\n",
       "    </tr>\n",
       "  </thead>\n",
       "  <tbody>\n",
       "    <tr>\n",
       "      <th>0</th>\n",
       "      <td>Alabama</td>\n",
       "      <td>14.6%</td>\n",
       "      <td>10.1%</td>\n",
       "      <td>-4.5%</td>\n",
       "      <td>215000</td>\n",
       "      <td>2545000</td>\n",
       "      <td>165534</td>\n",
       "      <td>152206</td>\n",
       "      <td>$310</td>\n",
       "      <td>False</td>\n",
       "      <td>799176.0</td>\n",
       "      <td>910775</td>\n",
       "      <td>111599.0</td>\n",
       "      <td>989855</td>\n",
       "    </tr>\n",
       "    <tr>\n",
       "      <th>1</th>\n",
       "      <td>Alaska</td>\n",
       "      <td>19.9%</td>\n",
       "      <td>14.9%</td>\n",
       "      <td>-5%</td>\n",
       "      <td>36000</td>\n",
       "      <td>390000</td>\n",
       "      <td>17995</td>\n",
       "      <td>16205</td>\n",
       "      <td>$750</td>\n",
       "      <td>True</td>\n",
       "      <td>122334.0</td>\n",
       "      <td>166625</td>\n",
       "      <td>44291.0</td>\n",
       "      <td>88966</td>\n",
       "    </tr>\n",
       "    <tr>\n",
       "      <th>2</th>\n",
       "      <td>Arizona</td>\n",
       "      <td>16.9%</td>\n",
       "      <td>10.8%</td>\n",
       "      <td>-6.1%</td>\n",
       "      <td>410000</td>\n",
       "      <td>3288000</td>\n",
       "      <td>179445</td>\n",
       "      <td>124346</td>\n",
       "      <td>$230</td>\n",
       "      <td>True</td>\n",
       "      <td>1201770.0</td>\n",
       "      <td>1716198</td>\n",
       "      <td>514428.0</td>\n",
       "      <td>1175624</td>\n",
       "    </tr>\n",
       "    <tr>\n",
       "      <th>3</th>\n",
       "      <td>Arkansas</td>\n",
       "      <td>17.5%</td>\n",
       "      <td>9.5%</td>\n",
       "      <td>-8%</td>\n",
       "      <td>234000</td>\n",
       "      <td>1365000</td>\n",
       "      <td>63357</td>\n",
       "      <td>56843</td>\n",
       "      <td>$306</td>\n",
       "      <td>True</td>\n",
       "      <td>556851.0</td>\n",
       "      <td>920194</td>\n",
       "      <td>363343.0</td>\n",
       "      <td>606146</td>\n",
       "    </tr>\n",
       "    <tr>\n",
       "      <th>4</th>\n",
       "      <td>California</td>\n",
       "      <td>18.5%</td>\n",
       "      <td>8.6%</td>\n",
       "      <td>-9.9%</td>\n",
       "      <td>3826000</td>\n",
       "      <td>19552000</td>\n",
       "      <td>1415428</td>\n",
       "      <td>1239893</td>\n",
       "      <td>$309</td>\n",
       "      <td>True</td>\n",
       "      <td>7755381.0</td>\n",
       "      <td>11843081</td>\n",
       "      <td>4087700.0</td>\n",
       "      <td>5829777</td>\n",
       "    </tr>\n",
       "  </tbody>\n",
       "</table>\n",
       "</div>"
      ],
      "text/plain": [
       "        State Uninsured Rate (2010) Uninsured Rate (2015)  \\\n",
       "0    Alabama                  14.6%                 10.1%   \n",
       "1     Alaska                  19.9%                 14.9%   \n",
       "2    Arizona                  16.9%                 10.8%   \n",
       "3   Arkansas                  17.5%                  9.5%   \n",
       "4  California                 18.5%                  8.6%   \n",
       "\n",
       "  Uninsured Rate Change (2010-2015)  \\\n",
       "0                            -4.5%    \n",
       "1                              -5%    \n",
       "2                            -6.1%    \n",
       "3                              -8%    \n",
       "4                            -9.9%    \n",
       "\n",
       "   Health Insurance Coverage Change (2010-2015)  \\\n",
       "0                                        215000   \n",
       "1                                         36000   \n",
       "2                                        410000   \n",
       "3                                        234000   \n",
       "4                                       3826000   \n",
       "\n",
       "   Employer Health Insurance Coverage (2015)  \\\n",
       "0                                    2545000   \n",
       "1                                     390000   \n",
       "2                                    3288000   \n",
       "3                                    1365000   \n",
       "4                                   19552000   \n",
       "\n",
       "   Marketplace Health Insurance Coverage (2016)  \\\n",
       "0                                        165534   \n",
       "1                                         17995   \n",
       "2                                        179445   \n",
       "3                                         63357   \n",
       "4                                       1415428   \n",
       "\n",
       "   Marketplace Tax Credits (2016) Average Monthly Tax Credit (2016)  \\\n",
       "0                          152206                             $310    \n",
       "1                           16205                             $750    \n",
       "2                          124346                             $230    \n",
       "3                           56843                             $306    \n",
       "4                         1239893                             $309    \n",
       "\n",
       "  State Medicaid Expansion (2016)  Medicaid Enrollment (2013)  \\\n",
       "0                           False                    799176.0   \n",
       "1                            True                    122334.0   \n",
       "2                            True                   1201770.0   \n",
       "3                            True                    556851.0   \n",
       "4                            True                   7755381.0   \n",
       "\n",
       "   Medicaid Enrollment (2016)  Medicaid Enrollment Change (2013-2016)  \\\n",
       "0                      910775                                111599.0   \n",
       "1                      166625                                 44291.0   \n",
       "2                     1716198                                514428.0   \n",
       "3                      920194                                363343.0   \n",
       "4                    11843081                               4087700.0   \n",
       "\n",
       "   Medicare Enrollment (2016)  \n",
       "0                      989855  \n",
       "1                       88966  \n",
       "2                     1175624  \n",
       "3                      606146  \n",
       "4                     5829777  "
      ]
     },
     "execution_count": 20,
     "metadata": {},
     "output_type": "execute_result"
    }
   ],
   "source": [
    "df.head()"
   ]
  },
  {
   "cell_type": "code",
   "execution_count": 21,
   "id": "4792cea9",
   "metadata": {},
   "outputs": [
    {
     "data": {
      "text/plain": [
       "Index(['State', 'Uninsured Rate (2010)', 'Uninsured Rate (2015)',\n",
       "       'Uninsured Rate Change (2010-2015)',\n",
       "       'Health Insurance Coverage Change (2010-2015)',\n",
       "       'Employer Health Insurance Coverage (2015)',\n",
       "       'Marketplace Health Insurance Coverage (2016)',\n",
       "       'Marketplace Tax Credits (2016)', 'Average Monthly Tax Credit (2016)',\n",
       "       'State Medicaid Expansion (2016)', 'Medicaid Enrollment (2013)',\n",
       "       'Medicaid Enrollment (2016)', 'Medicaid Enrollment Change (2013-2016)',\n",
       "       'Medicare Enrollment (2016)'],\n",
       "      dtype='object')"
      ]
     },
     "execution_count": 21,
     "metadata": {},
     "output_type": "execute_result"
    }
   ],
   "source": [
    "# Checking for columns\n",
    "df.columns"
   ]
  },
  {
   "cell_type": "code",
   "execution_count": 22,
   "id": "908be49e",
   "metadata": {},
   "outputs": [
    {
     "data": {
      "text/plain": [
       "State                                           0\n",
       "Uninsured Rate (2010)                           0\n",
       "Uninsured Rate (2015)                           0\n",
       "Uninsured Rate Change (2010-2015)               0\n",
       "Health Insurance Coverage Change (2010-2015)    0\n",
       "Employer Health Insurance Coverage (2015)       0\n",
       "Marketplace Health Insurance Coverage (2016)    0\n",
       "Marketplace Tax Credits (2016)                  0\n",
       "Average Monthly Tax Credit (2016)               0\n",
       "State Medicaid Expansion (2016)                 1\n",
       "Medicaid Enrollment (2013)                      2\n",
       "Medicaid Enrollment (2016)                      0\n",
       "Medicaid Enrollment Change (2013-2016)          2\n",
       "Medicare Enrollment (2016)                      0\n",
       "dtype: int64"
      ]
     },
     "execution_count": 22,
     "metadata": {},
     "output_type": "execute_result"
    }
   ],
   "source": [
    "# To check for the missing values\n",
    "df.isnull().sum()"
   ]
  },
  {
   "cell_type": "code",
   "execution_count": 23,
   "id": "0309bcab",
   "metadata": {},
   "outputs": [],
   "source": [
    "# Replace the missing values\n",
    "mean_value = df[\"Medicaid Enrollment (2013)\"].mean()"
   ]
  },
  {
   "cell_type": "code",
   "execution_count": 24,
   "id": "d262fd20",
   "metadata": {},
   "outputs": [
    {
     "data": {
      "text/plain": [
       "2255699.08"
      ]
     },
     "execution_count": 24,
     "metadata": {},
     "output_type": "execute_result"
    }
   ],
   "source": [
    "mean_value"
   ]
  },
  {
   "cell_type": "code",
   "execution_count": 25,
   "id": "f42f96a4",
   "metadata": {},
   "outputs": [],
   "source": [
    "# Using the mean value to replace the records\n",
    "df[\"Medicaid Enrollment (2013)\"].fillna(mean_value,inplace = True)"
   ]
  },
  {
   "cell_type": "code",
   "execution_count": 26,
   "id": "aac5e491",
   "metadata": {},
   "outputs": [
    {
     "data": {
      "text/plain": [
       "State                                           0\n",
       "Uninsured Rate (2010)                           0\n",
       "Uninsured Rate (2015)                           0\n",
       "Uninsured Rate Change (2010-2015)               0\n",
       "Health Insurance Coverage Change (2010-2015)    0\n",
       "Employer Health Insurance Coverage (2015)       0\n",
       "Marketplace Health Insurance Coverage (2016)    0\n",
       "Marketplace Tax Credits (2016)                  0\n",
       "Average Monthly Tax Credit (2016)               0\n",
       "State Medicaid Expansion (2016)                 1\n",
       "Medicaid Enrollment (2013)                      0\n",
       "Medicaid Enrollment (2016)                      0\n",
       "Medicaid Enrollment Change (2013-2016)          2\n",
       "Medicare Enrollment (2016)                      0\n",
       "dtype: int64"
      ]
     },
     "execution_count": 26,
     "metadata": {},
     "output_type": "execute_result"
    }
   ],
   "source": [
    "# To confirm the change\n",
    "df.isnull().sum()"
   ]
  },
  {
   "cell_type": "code",
   "execution_count": 27,
   "id": "d4e964ec",
   "metadata": {},
   "outputs": [
    {
     "data": {
      "text/plain": [
       "State                                           0\n",
       "Uninsured Rate (2010)                           0\n",
       "Uninsured Rate (2015)                           0\n",
       "Uninsured Rate Change (2010-2015)               0\n",
       "Health Insurance Coverage Change (2010-2015)    0\n",
       "Employer Health Insurance Coverage (2015)       0\n",
       "Marketplace Health Insurance Coverage (2016)    0\n",
       "Marketplace Tax Credits (2016)                  0\n",
       "Average Monthly Tax Credit (2016)               0\n",
       "State Medicaid Expansion (2016)                 0\n",
       "Medicaid Enrollment (2013)                      0\n",
       "Medicaid Enrollment (2016)                      0\n",
       "Medicaid Enrollment Change (2013-2016)          0\n",
       "Medicare Enrollment (2016)                      0\n",
       "dtype: int64"
      ]
     },
     "execution_count": 27,
     "metadata": {},
     "output_type": "execute_result"
    }
   ],
   "source": [
    "# Dropping the missing values of other columns\n",
    "df1 = df.dropna()\n",
    "df1.isnull().sum()"
   ]
  },
  {
   "cell_type": "code",
   "execution_count": 29,
   "id": "6c8bef42",
   "metadata": {},
   "outputs": [
    {
     "name": "stdout",
     "output_type": "stream",
     "text": [
      "<class 'pandas.core.frame.DataFrame'>\n",
      "Int64Index: 49 entries, 0 to 50\n",
      "Data columns (total 14 columns):\n",
      " #   Column                                        Non-Null Count  Dtype  \n",
      "---  ------                                        --------------  -----  \n",
      " 0   State                                         49 non-null     object \n",
      " 1   Uninsured Rate (2010)                         49 non-null     object \n",
      " 2   Uninsured Rate (2015)                         49 non-null     object \n",
      " 3   Uninsured Rate Change (2010-2015)             49 non-null     object \n",
      " 4   Health Insurance Coverage Change (2010-2015)  49 non-null     int64  \n",
      " 5   Employer Health Insurance Coverage (2015)     49 non-null     int64  \n",
      " 6   Marketplace Health Insurance Coverage (2016)  49 non-null     int64  \n",
      " 7   Marketplace Tax Credits (2016)                49 non-null     int64  \n",
      " 8   Average Monthly Tax Credit (2016)             49 non-null     object \n",
      " 9   State Medicaid Expansion (2016)               49 non-null     object \n",
      " 10  Medicaid Enrollment (2013)                    49 non-null     float64\n",
      " 11  Medicaid Enrollment (2016)                    49 non-null     int64  \n",
      " 12  Medicaid Enrollment Change (2013-2016)        49 non-null     float64\n",
      " 13  Medicare Enrollment (2016)                    49 non-null     int64  \n",
      "dtypes: float64(2), int64(6), object(6)\n",
      "memory usage: 5.7+ KB\n"
     ]
    }
   ],
   "source": [
    "# Checking the information concerning dataset\n",
    "df1.info()"
   ]
  },
  {
   "cell_type": "code",
   "execution_count": 33,
   "id": "e9ea5f29",
   "metadata": {},
   "outputs": [
    {
     "name": "stderr",
     "output_type": "stream",
     "text": [
      "C:\\Users\\niran\\anaconda3\\lib\\site-packages\\seaborn\\_decorators.py:36: FutureWarning: Pass the following variable as a keyword arg: x. From version 0.12, the only valid positional argument will be `data`, and passing other arguments without an explicit keyword will result in an error or misinterpretation.\n",
      "  warnings.warn(\n"
     ]
    },
    {
     "data": {
      "text/plain": [
       "<AxesSubplot:xlabel='Employer Health Insurance Coverage (2015)'>"
      ]
     },
     "execution_count": 33,
     "metadata": {},
     "output_type": "execute_result"
    },
    {
     "data": {
      "image/png": "[encoded data removed]",
      "text/plain": [
       "<Figure size 640x480 with 1 Axes>"
      ]
     },
     "metadata": {},
     "output_type": "display_data"
    }
   ],
   "source": [
    "# Check for outliers in the dataset\n",
    "sns.boxplot(df1[\"Employer Health Insurance Coverage (2015)\"])"
   ]
  },
  {
   "cell_type": "code",
   "execution_count": 35,
   "id": "b108fd7c",
   "metadata": {},
   "outputs": [
    {
     "data": {
      "text/plain": [
       "18149679.99999999"
      ]
     },
     "execution_count": 35,
     "metadata": {},
     "output_type": "execute_result"
    }
   ],
   "source": [
    "# Choose the maximum quantile for outliers\n",
    "max_cr = df1[\"Employer Health Insurance Coverage (2015)\"].quantile(0.995)\n",
    "max_cr"
   ]
  },
  {
   "cell_type": "code",
   "execution_count": 36,
   "id": "0750c66e",
   "metadata": {},
   "outputs": [
    {
     "data": {
      "text/html": [
       "<div>\n",
       "<style scoped>\n",
       "    .dataframe tbody tr th:only-of-type {\n",
       "        vertical-align: middle;\n",
       "    }\n",
       "\n",
       "    .dataframe tbody tr th {\n",
       "        vertical-align: top;\n",
       "    }\n",
       "\n",
       "    .dataframe thead th {\n",
       "        text-align: right;\n",
       "    }\n",
       "</style>\n",
       "<table border=\"1\" class=\"dataframe\">\n",
       "  <thead>\n",
       "    <tr style=\"text-align: right;\">\n",
       "      <th></th>\n",
       "      <th>State</th>\n",
       "      <th>Uninsured Rate (2010)</th>\n",
       "      <th>Uninsured Rate (2015)</th>\n",
       "      <th>Uninsured Rate Change (2010-2015)</th>\n",
       "      <th>Health Insurance Coverage Change (2010-2015)</th>\n",
       "      <th>Employer Health Insurance Coverage (2015)</th>\n",
       "      <th>Marketplace Health Insurance Coverage (2016)</th>\n",
       "      <th>Marketplace Tax Credits (2016)</th>\n",
       "      <th>Average Monthly Tax Credit (2016)</th>\n",
       "      <th>State Medicaid Expansion (2016)</th>\n",
       "      <th>Medicaid Enrollment (2013)</th>\n",
       "      <th>Medicaid Enrollment (2016)</th>\n",
       "      <th>Medicaid Enrollment Change (2013-2016)</th>\n",
       "      <th>Medicare Enrollment (2016)</th>\n",
       "    </tr>\n",
       "  </thead>\n",
       "  <tbody>\n",
       "    <tr>\n",
       "      <th>4</th>\n",
       "      <td>California</td>\n",
       "      <td>18.5%</td>\n",
       "      <td>8.6%</td>\n",
       "      <td>-9.9%</td>\n",
       "      <td>3826000</td>\n",
       "      <td>19552000</td>\n",
       "      <td>1415428</td>\n",
       "      <td>1239893</td>\n",
       "      <td>$309</td>\n",
       "      <td>True</td>\n",
       "      <td>7755381.0</td>\n",
       "      <td>11843081</td>\n",
       "      <td>4087700.0</td>\n",
       "      <td>5829777</td>\n",
       "    </tr>\n",
       "  </tbody>\n",
       "</table>\n",
       "</div>"
      ],
      "text/plain": [
       "        State Uninsured Rate (2010) Uninsured Rate (2015)  \\\n",
       "4  California                 18.5%                  8.6%   \n",
       "\n",
       "  Uninsured Rate Change (2010-2015)  \\\n",
       "4                            -9.9%    \n",
       "\n",
       "   Health Insurance Coverage Change (2010-2015)  \\\n",
       "4                                       3826000   \n",
       "\n",
       "   Employer Health Insurance Coverage (2015)  \\\n",
       "4                                   19552000   \n",
       "\n",
       "   Marketplace Health Insurance Coverage (2016)  \\\n",
       "4                                       1415428   \n",
       "\n",
       "   Marketplace Tax Credits (2016) Average Monthly Tax Credit (2016)  \\\n",
       "4                         1239893                             $309    \n",
       "\n",
       "  State Medicaid Expansion (2016)  Medicaid Enrollment (2013)  \\\n",
       "4                            True                   7755381.0   \n",
       "\n",
       "   Medicaid Enrollment (2016)  Medicaid Enrollment Change (2013-2016)  \\\n",
       "4                    11843081                               4087700.0   \n",
       "\n",
       "   Medicare Enrollment (2016)  \n",
       "4                     5829777  "
      ]
     },
     "execution_count": 36,
     "metadata": {},
     "output_type": "execute_result"
    }
   ],
   "source": [
    "df1[df1[\"Employer Health Insurance Coverage (2015)\"] > max_cr]"
   ]
  },
  {
   "cell_type": "code",
   "execution_count": 37,
   "id": "14fd7d44",
   "metadata": {},
   "outputs": [],
   "source": [
    "#Assigning new data to a new data frame \n",
    "\n",
    "df2 = df1[df1[\"Employer Health Insurance Coverage (2015)\"] < max_cr]"
   ]
  },
  {
   "cell_type": "code",
   "execution_count": 38,
   "id": "82b35509",
   "metadata": {},
   "outputs": [
    {
     "name": "stderr",
     "output_type": "stream",
     "text": [
      "C:\\Users\\niran\\anaconda3\\lib\\site-packages\\seaborn\\_decorators.py:36: FutureWarning: Pass the following variable as a keyword arg: x. From version 0.12, the only valid positional argument will be `data`, and passing other arguments without an explicit keyword will result in an error or misinterpretation.\n",
      "  warnings.warn(\n"
     ]
    },
    {
     "data": {
      "text/plain": [
       "<AxesSubplot:xlabel='Employer Health Insurance Coverage (2015)'>"
      ]
     },
     "execution_count": 38,
     "metadata": {},
     "output_type": "execute_result"
    },
    {
     "data": {
      "image/png": "[encoded data removed]",
      "text/plain": [
       "<Figure size 640x480 with 1 Axes>"
      ]
     },
     "metadata": {},
     "output_type": "display_data"
    }
   ],
   "source": [
    "# To confirm the change\n",
    "sns.boxplot(df2[\"Employer Health Insurance Coverage (2015)\"])"
   ]
  },
  {
   "cell_type": "code",
   "execution_count": 39,
   "id": "b874c72a",
   "metadata": {},
   "outputs": [
    {
     "data": {
      "text/plain": [
       "0     False\n",
       "1     False\n",
       "2     False\n",
       "3     False\n",
       "5     False\n",
       "7     False\n",
       "8     False\n",
       "9     False\n",
       "10    False\n",
       "11    False\n",
       "12    False\n",
       "13    False\n",
       "14    False\n",
       "15    False\n",
       "16    False\n",
       "17    False\n",
       "18    False\n",
       "20    False\n",
       "21    False\n",
       "22    False\n",
       "23    False\n",
       "24    False\n",
       "25    False\n",
       "26    False\n",
       "27    False\n",
       "28    False\n",
       "29    False\n",
       "30    False\n",
       "31    False\n",
       "32    False\n",
       "33    False\n",
       "34    False\n",
       "35    False\n",
       "36    False\n",
       "37    False\n",
       "38    False\n",
       "39    False\n",
       "40    False\n",
       "41    False\n",
       "42    False\n",
       "43    False\n",
       "44    False\n",
       "45    False\n",
       "46    False\n",
       "47    False\n",
       "48    False\n",
       "49    False\n",
       "50    False\n",
       "dtype: bool"
      ]
     },
     "execution_count": 39,
     "metadata": {},
     "output_type": "execute_result"
    }
   ],
   "source": [
    "# Checking for duplicate values\n",
    "df2.duplicated()"
   ]
  },
  {
   "cell_type": "code",
   "execution_count": 40,
   "id": "1f2f28c3",
   "metadata": {},
   "outputs": [],
   "source": [
    "df3 = df2.drop_duplicates()"
   ]
  },
  {
   "cell_type": "code",
   "execution_count": 41,
   "id": "ff167d0e",
   "metadata": {},
   "outputs": [
    {
     "data": {
      "text/plain": [
       "0"
      ]
     },
     "execution_count": 41,
     "metadata": {},
     "output_type": "execute_result"
    }
   ],
   "source": [
    "# to confirm the change\n",
    "df3.duplicated().sum()"
   ]
  },
  {
   "cell_type": "code",
   "execution_count": 42,
   "id": "823ab99b",
   "metadata": {},
   "outputs": [],
   "source": [
    "# saving new dataset into csv file\n",
    "df3.to_csv(\"Cleaned_data2.csv\")"
   ]
  },
  {
   "cell_type": "code",
   "execution_count": null,
   "id": "d969fd32",
   "metadata": {},
   "outputs": [],
   "source": []
  }
 ],
 "metadata": {
  "kernelspec": {
   "display_name": "Python 3 (ipykernel)",
   "language": "python",
   "name": "python3"
  },
  "language_info": {
   "codemirror_mode": {
    "name": "ipython",
    "version": 3
   },
   "file_extension": ".py",
   "mimetype": "text/x-python",
   "name": "python",
   "nbconvert_exporter": "python",
   "pygments_lexer": "ipython3",
   "version": "3.9.12"
  }
 },
 "nbformat": 4,
 "nbformat_minor": 5
}
